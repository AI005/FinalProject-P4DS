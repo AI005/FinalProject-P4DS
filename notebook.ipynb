{
 "cells": [
  {
   "cell_type": "markdown",
   "id": "accompanied-treasure",
   "metadata": {},
   "source": [
    "# INFO\n",
    "\n",
    "- ĐỒ ÁN CUỐI KÌ MÔN `LẬP TRÌNH CHO KHOA HỌC DỮ LIỆU`\n",
    "- Thành viên:\n",
    "    + 18120517 Nguyễn Công Bình Phương\n",
    "    + 18120514 Phan Thiên Phúc"
   ]
  },
  {
   "cell_type": "markdown",
   "id": "numerous-christmas",
   "metadata": {},
   "source": [
    "# LỜI MỞ ĐẦU"
   ]
  },
  {
   "cell_type": "markdown",
   "id": "round-actor",
   "metadata": {},
   "source": [
    "***Bạn có biết rằng***:\n",
    "- Hơn 700 000 người chết do tự tử mỗi năm. \n",
    "- Cứ mỗi vụ tự tử lại có thêm nhiều người cố gắng tự tử. Nỗ lực tự tử trước đó là yếu tố nguy cơ quan trọng nhất dẫn đến tự tử trong dân số nói chung. \n",
    "- Tự tử là nguyên nhân thứ tư gây tử vong ở lứa tuổi 15-19. \n",
    "- 77% số vụ tự tử trên toàn cầu xảy ra ở các nước có thu nhập thấp và trung bình. Uống thuốc trừ sâu, treo cổ và cầm súng là một trong những phương pháp tự sát phổ biến nhất trên toàn cầu.\n",
    "\n",
    "<a href='https://www.who.int/news-room/fact-sheets/detail/suicide'> nguồn thông tin </a>\n",
    "\n",
    "Phía trên là những thông tin xác thực từ tổ chức nổi tiếng của thế giới WHO (World Healthy Organization). Rõ ràng vấn đề tự tử là một vấn đề nghiêm trọng của thế giới. Tự tử là một vấn đề bi kịch đến từ yếu tố tâm lý của người có ý định tự sát, tự kết thúc mạng sống của bản thân vì một số lý do nào đó: áp lực tinh thần, lạc lõng, mất phương hướng trong cuộc sống, bị đe dọa, ...\n",
    "\n",
    "Tự sát không chỉ tước đi mạng sống của nạn nhân mà còn gây tổn hại cho người thân, gia đình và xã hội. Khi ta mất đi một người thân, một người bạn chỉ vì họ tự tử thì đó quả thật là một điều đau lòng, sự dằn vặt trong ta. Một người tự tử có thể trở thành một hiệu ứng lan truyền như một cách thức giải quyết cho những người cảm thấy bế tắc cho cuộc sống.\n",
    "\n",
    "***Vậy nên việc phân tích dữ liệu về vấn đề tự tử này sẽ mang đến ý nghĩa gì?***\n",
    "\n",
    "- Đầu tiên là nói về dữ liệu này: dữ liệu này là dữ liệu về vấn đề tự tử của 101 quốc gia từ năm 1985 đến năm 2016. Dữ liệu này bao gồm một số thông tin hữu ích liên quan như: giới tính, tuổi, số lượng tự tử, mật độ dân số, gdp của năm, gdp bình quân đâu người, thế hệ.\n",
    "\n",
    "- Từ dữ liệu này ta sẽ phân tích được một số insight về sự liên quan giữa các thuộc tính trong dữ liệu với việc tự tử: ví dụ như ở độ tuổi nào có số lượng tự tử nhiều. Với mỗi giới tính, từng năm, kinh tế thì ảnh hưởng như thế nào đến tự tử\n",
    "\n",
    "- Vậy từ các insight có thể có ý nghĩa như thế nào?\n",
    "    Đôi khi trong cuộc sống, ở mỗi giai đoạn ta sẽ trải qua những áp lực khác nhau. Khi còn độ tuổi học sinh, ta áp lực về chuyện học hành, bố mẹ kì vọng. Ở độ tuổi đi làm ta áp lực về tiền bạc, áp lực công việc. Khi có gia đình ta áp lực về việc nuôi dạy con cái, xây dựng hạnh phúc gia đình, chuyện tiền nong, học hành của con cái, ... Vậy nên với mỗi giai đoạn trưởng thành, nhiều lúc bế tắc trong cuộc sống, có lẽ thứ ta cần là một sự đồng cảm. Vậy nên việc phân tích dữ liệu này là một điều cần thiết, đôi khi nhìn vào số liệu này ta nhận ra được một việc rằng đó là có rất nhiều người đều như chúng ta, họ cũng trải qua bế tắc trong cuộc sống.\n",
    "    \n",
    "- Đặc biệt trong tình hình dịch bênh covid phức tạp như hiện nay, nhiều người thất nghiệp, cuộc sống hạn chế quanh quẩn trong nhà, học sinh không được đến trường, các ca tử vong do dịch. Cuộc sống như hiện tại gây nên rất nhiều âu lo cho mọi người, thất nghiệp, cô đơn, quây quẩn xung quên 4 bức tường, cày netflix chờ đến khi cuộc sống ổn định rồi tính tiếp. Có lẽ không ít người rơi vào trầm cảm và nhiều khi nghĩ đến cái chết...\n",
    "\n",
    ".\n",
    ".\n",
    ".\n",
    "    \n",
    "    \"A useless life is an early death\" - Johann Wolfgang von Goethe\n",
    "                           \n",
    "    \n",
    "    \"Người chết đã đi rồi nhưng nỗi đau của những người ở lại có lẽ sẽ kéo dài vô tận.\" - Tình Yêu Pha Lê -- Tuyết Ảnh Sương Hồn"
   ]
  },
  {
   "cell_type": "markdown",
   "id": "fourth-rates",
   "metadata": {},
   "source": [
    "# PHÂN TÍCH DỮ LIỆU"
   ]
  },
  {
   "cell_type": "markdown",
   "id": "stuffed-analysis",
   "metadata": {},
   "source": [
    "## ABOUT DATA\n",
    "- **Source**: https://www.kaggle.com/russellyates88/suicide-rates-overview-1985-to-2016\n",
    "\n",
    "- **Content**\n",
    "\n",
    "    This compiled dataset pulled from four other datasets linked by time and place, and was built to find signals correlated to increased suicide rates among different cohorts globally, across the socio-economic spectrum.\n",
    "\n",
    "- **References**\n",
    "    \n",
    "    United Nations Development Program. (2018). Human development index (HDI). Retrieved from http://hdr.undp.org/en/indicators/137506\n",
    "\n",
    "    World Bank. (2018). World development indicators: GDP (current US$) by country:1985 to 2016. Retrieved from http://databank.worldbank.org/data/source/world-development-indicators#\n",
    "\n",
    "    [Szamil]. (2017). Suicide in the Twenty-First Century [dataset]. Retrieved from https://www.kaggle.com/szamil/suicide-in-the-twenty-first-century/notebook\n",
    "\n",
    "    World Health Organization. (2018). Suicide prevention. Retrieved from http://www.who.int/mental_health/suicide-prevention/en/\n",
    "\n",
    "- **Inspiration**\n",
    "    \n",
    "    Suicide Prevention.\n",
    "    \n",
    "- **Decription of feature**\n",
    "    + Country: Column representing countries (string)\n",
    "    + Year: Column representing years (integer)\n",
    "    + Sex: Column representing genres (string)\n",
    "    + Age: Column representing ages (string)\n",
    "    + Suicides_no: Column representing the number of suicides (integer)\n",
    "    + Population: Column representing the population (integer)\n",
    "    + Suicides / 100k pop: Column that represents the number of suicides per 100 thousand inhabitants (float)\n",
    "    + Country-year: Column that represents (string)\n",
    "    + HDI for year: Column that represents the HDI in each year (float)\n",
    "    + Gdp_for_year(\\$): Column representing GDP in each year (string)\n",
    "    + Gdp_per_capita(\\$): Column representing GDP per capita (float)\n",
    "    + Generation: Column that represents the generation (string)"
   ]
  },
  {
   "cell_type": "markdown",
   "id": "fatty-joining",
   "metadata": {},
   "source": [
    "Đầu tiên ta sẽ xem tổng quan về dữ liệu, có bao nhiều dòng, dữ liệu có thiếu không, thông tin về các cột, phân bố của các thuộc tính, ..."
   ]
  },
  {
   "cell_type": "markdown",
   "id": "outdoor-music",
   "metadata": {},
   "source": [
    "## TỔNG QUAN"
   ]
  },
  {
   "cell_type": "code",
   "execution_count": 1,
   "id": "violent-intranet",
   "metadata": {},
   "outputs": [],
   "source": [
    "import pandas as pd\n",
    "import matplotlib.pyplot as plt\n",
    "import seaborn as sns\n",
    "import numpy as np"
   ]
  },
  {
   "cell_type": "code",
   "execution_count": 2,
   "id": "numerical-costa",
   "metadata": {},
   "outputs": [
    {
     "data": {
      "text/html": [
       "<div>\n",
       "<style scoped>\n",
       "    .dataframe tbody tr th:only-of-type {\n",
       "        vertical-align: middle;\n",
       "    }\n",
       "\n",
       "    .dataframe tbody tr th {\n",
       "        vertical-align: top;\n",
       "    }\n",
       "\n",
       "    .dataframe thead th {\n",
       "        text-align: right;\n",
       "    }\n",
       "</style>\n",
       "<table border=\"1\" class=\"dataframe\">\n",
       "  <thead>\n",
       "    <tr style=\"text-align: right;\">\n",
       "      <th></th>\n",
       "      <th>country</th>\n",
       "      <th>year</th>\n",
       "      <th>sex</th>\n",
       "      <th>age</th>\n",
       "      <th>suicides_no</th>\n",
       "      <th>population</th>\n",
       "      <th>suicides/100k pop</th>\n",
       "      <th>country-year</th>\n",
       "      <th>HDI for year</th>\n",
       "      <th>gdp_for_year ($)</th>\n",
       "      <th>gdp_per_capita ($)</th>\n",
       "      <th>generation</th>\n",
       "    </tr>\n",
       "  </thead>\n",
       "  <tbody>\n",
       "    <tr>\n",
       "      <th>0</th>\n",
       "      <td>Albania</td>\n",
       "      <td>1987</td>\n",
       "      <td>male</td>\n",
       "      <td>15-24 years</td>\n",
       "      <td>21</td>\n",
       "      <td>312900</td>\n",
       "      <td>6.71</td>\n",
       "      <td>Albania1987</td>\n",
       "      <td>NaN</td>\n",
       "      <td>2,156,624,900</td>\n",
       "      <td>796</td>\n",
       "      <td>Generation X</td>\n",
       "    </tr>\n",
       "    <tr>\n",
       "      <th>1</th>\n",
       "      <td>Albania</td>\n",
       "      <td>1987</td>\n",
       "      <td>male</td>\n",
       "      <td>35-54 years</td>\n",
       "      <td>16</td>\n",
       "      <td>308000</td>\n",
       "      <td>5.19</td>\n",
       "      <td>Albania1987</td>\n",
       "      <td>NaN</td>\n",
       "      <td>2,156,624,900</td>\n",
       "      <td>796</td>\n",
       "      <td>Silent</td>\n",
       "    </tr>\n",
       "    <tr>\n",
       "      <th>2</th>\n",
       "      <td>Albania</td>\n",
       "      <td>1987</td>\n",
       "      <td>female</td>\n",
       "      <td>15-24 years</td>\n",
       "      <td>14</td>\n",
       "      <td>289700</td>\n",
       "      <td>4.83</td>\n",
       "      <td>Albania1987</td>\n",
       "      <td>NaN</td>\n",
       "      <td>2,156,624,900</td>\n",
       "      <td>796</td>\n",
       "      <td>Generation X</td>\n",
       "    </tr>\n",
       "    <tr>\n",
       "      <th>3</th>\n",
       "      <td>Albania</td>\n",
       "      <td>1987</td>\n",
       "      <td>male</td>\n",
       "      <td>75+ years</td>\n",
       "      <td>1</td>\n",
       "      <td>21800</td>\n",
       "      <td>4.59</td>\n",
       "      <td>Albania1987</td>\n",
       "      <td>NaN</td>\n",
       "      <td>2,156,624,900</td>\n",
       "      <td>796</td>\n",
       "      <td>G.I. Generation</td>\n",
       "    </tr>\n",
       "    <tr>\n",
       "      <th>4</th>\n",
       "      <td>Albania</td>\n",
       "      <td>1987</td>\n",
       "      <td>male</td>\n",
       "      <td>25-34 years</td>\n",
       "      <td>9</td>\n",
       "      <td>274300</td>\n",
       "      <td>3.28</td>\n",
       "      <td>Albania1987</td>\n",
       "      <td>NaN</td>\n",
       "      <td>2,156,624,900</td>\n",
       "      <td>796</td>\n",
       "      <td>Boomers</td>\n",
       "    </tr>\n",
       "  </tbody>\n",
       "</table>\n",
       "</div>"
      ],
      "text/plain": [
       "   country  year     sex          age  suicides_no  population  \\\n",
       "0  Albania  1987    male  15-24 years           21      312900   \n",
       "1  Albania  1987    male  35-54 years           16      308000   \n",
       "2  Albania  1987  female  15-24 years           14      289700   \n",
       "3  Albania  1987    male    75+ years            1       21800   \n",
       "4  Albania  1987    male  25-34 years            9      274300   \n",
       "\n",
       "   suicides/100k pop country-year  HDI for year  gdp_for_year ($)   \\\n",
       "0               6.71  Albania1987           NaN      2,156,624,900   \n",
       "1               5.19  Albania1987           NaN      2,156,624,900   \n",
       "2               4.83  Albania1987           NaN      2,156,624,900   \n",
       "3               4.59  Albania1987           NaN      2,156,624,900   \n",
       "4               3.28  Albania1987           NaN      2,156,624,900   \n",
       "\n",
       "   gdp_per_capita ($)       generation  \n",
       "0                 796     Generation X  \n",
       "1                 796           Silent  \n",
       "2                 796     Generation X  \n",
       "3                 796  G.I. Generation  \n",
       "4                 796          Boomers  "
      ]
     },
     "execution_count": 2,
     "metadata": {},
     "output_type": "execute_result"
    }
   ],
   "source": [
    "df = pd.read_csv('master.csv')\n",
    "df.head()"
   ]
  },
  {
   "cell_type": "code",
   "execution_count": 3,
   "id": "multiple-player",
   "metadata": {},
   "outputs": [
    {
     "name": "stdout",
     "output_type": "stream",
     "text": [
      "<class 'pandas.core.frame.DataFrame'>\n",
      "RangeIndex: 27820 entries, 0 to 27819\n",
      "Data columns (total 12 columns):\n",
      " #   Column              Non-Null Count  Dtype  \n",
      "---  ------              --------------  -----  \n",
      " 0   country             27820 non-null  object \n",
      " 1   year                27820 non-null  int64  \n",
      " 2   sex                 27820 non-null  object \n",
      " 3   age                 27820 non-null  object \n",
      " 4   suicides_no         27820 non-null  int64  \n",
      " 5   population          27820 non-null  int64  \n",
      " 6   suicides/100k pop   27820 non-null  float64\n",
      " 7   country-year        27820 non-null  object \n",
      " 8   HDI for year        8364 non-null   float64\n",
      " 9    gdp_for_year ($)   27820 non-null  object \n",
      " 10  gdp_per_capita ($)  27820 non-null  int64  \n",
      " 11  generation          27820 non-null  object \n",
      "dtypes: float64(2), int64(4), object(6)\n",
      "memory usage: 2.5+ MB\n"
     ]
    }
   ],
   "source": [
    "df.info()"
   ]
  },
  {
   "cell_type": "code",
   "execution_count": 4,
   "id": "verbal-compromise",
   "metadata": {},
   "outputs": [
    {
     "data": {
      "text/plain": [
       "country               0.000000\n",
       "year                  0.000000\n",
       "sex                   0.000000\n",
       "age                   0.000000\n",
       "suicides_no           0.000000\n",
       "population            0.000000\n",
       "suicides/100k pop     0.000000\n",
       "country-year          0.000000\n",
       "HDI for year          0.699353\n",
       " gdp_for_year ($)     0.000000\n",
       "gdp_per_capita ($)    0.000000\n",
       "generation            0.000000\n",
       "dtype: float64"
      ]
     },
     "execution_count": 4,
     "metadata": {},
     "output_type": "execute_result"
    }
   ],
   "source": [
    "df.isnull().sum() / df.shape[0]"
   ]
  },
  {
   "cell_type": "markdown",
   "id": "widespread-coupon",
   "metadata": {},
   "source": [
    "- Dữ liệu có tổng cộng 12 cột, 27820 dòng. Trong đó cột duy nhất một cột thiếu dữ liệu là `HDI for year`, tỉ lệ thiếu đến 69.99%. Cột này mang ý nghĩa là chỉ số HDI trong năm đó, chỉ số HDI là chỉ số phát triển con người\n",
    "\n",
    "- Ta thấy có 5 cột thuộc kiểu object: country, sex, age, coutry-year, generation. Ta xem thử phân bố các nhãn thuộc các thuộc tính này như thế nào"
   ]
  },
  {
   "cell_type": "code",
   "execution_count": 5,
   "id": "complicated-authority",
   "metadata": {},
   "outputs": [
    {
     "name": "stdout",
     "output_type": "stream",
     "text": [
      "\n",
      "\n",
      "-----country-----\n",
      "Netherlands               382\n",
      "Mauritius                 382\n",
      "Austria                   382\n",
      "Iceland                   382\n",
      "Brazil                    372\n",
      "                         ... \n",
      "Bosnia and Herzegovina     24\n",
      "Dominica                   12\n",
      "Macau                      12\n",
      "Cabo Verde                 12\n",
      "Mongolia                   10\n",
      "Name: country, Length: 101, dtype: int64\n",
      "\n",
      "\n",
      "-----year-----\n",
      "2009    1068\n",
      "2010    1056\n",
      "2001    1056\n",
      "2000    1032\n",
      "2011    1032\n",
      "2007    1032\n",
      "2002    1032\n",
      "2003    1032\n",
      "2006    1020\n",
      "2008    1020\n",
      "2005    1008\n",
      "2004    1008\n",
      "1999     996\n",
      "2012     972\n",
      "2013     960\n",
      "1998     948\n",
      "1995     936\n",
      "2014     936\n",
      "1997     924\n",
      "1996     924\n",
      "1994     816\n",
      "1992     780\n",
      "1993     780\n",
      "1991     768\n",
      "1990     768\n",
      "2015     744\n",
      "1987     648\n",
      "1989     624\n",
      "1988     588\n",
      "1986     576\n",
      "1985     576\n",
      "2016     160\n",
      "Name: year, dtype: int64\n",
      "\n",
      "\n",
      "-----sex-----\n",
      "female    13910\n",
      "male      13910\n",
      "Name: sex, dtype: int64\n",
      "\n",
      "\n",
      "-----age-----\n",
      "75+ years      4642\n",
      "35-54 years    4642\n",
      "15-24 years    4642\n",
      "55-74 years    4642\n",
      "25-34 years    4642\n",
      "5-14 years     4610\n",
      "Name: age, dtype: int64\n",
      "\n",
      "\n",
      "-----country-year-----\n",
      "Russian Federation2002    12\n",
      "Kazakhstan2008            12\n",
      "Argentina2000             12\n",
      "Albania2007               12\n",
      "Lithuania1995             12\n",
      "                          ..\n",
      "Austria2016               10\n",
      "Czech Republic2016        10\n",
      "Grenada2016               10\n",
      "Netherlands2016           10\n",
      "Thailand2016              10\n",
      "Name: country-year, Length: 2321, dtype: int64\n",
      "\n",
      "\n",
      "-----generation-----\n",
      "Generation X       6408\n",
      "Silent             6364\n",
      "Millenials         5844\n",
      "Boomers            4990\n",
      "G.I. Generation    2744\n",
      "Generation Z       1470\n",
      "Name: generation, dtype: int64\n"
     ]
    }
   ],
   "source": [
    "obj_cols = ['country', 'year', 'sex', 'age', 'country-year', 'generation']\n",
    "\n",
    "for obj_col in obj_cols:\n",
    "    print(f'\\n\\n-----{obj_col}-----')\n",
    "    print(df[obj_col].value_counts())"
   ]
  },
  {
   "cell_type": "markdown",
   "id": "falling-cotton",
   "metadata": {},
   "source": [
    "- Ta tổng hợp được như sau:\n",
    "    + `country`: Có tổng cộng 101 quốc gia, nhưng số lượng các quốc gia xuất hiện không đều nhau (có lẽ liên quan đến cột year)\n",
    "    + `year`: tư năm 1985 đến 2016, số lượng xúât hiện của mỗi năm không đồng đều nhau, vậy nên phân tích sự khác biệt theo từng năm có vẻ không khả quan\n",
    "    + `sex`: có hai giới tính (male, female). Hmm, khá cơ bản, nếu có thêm giới tính thứ 3 thì có lẽ việc phân tích sẽ hay hơn\n",
    "    + `age`: gồm 6 nhãn, chia như sau: 5-14, 15-24, 25-34, 35-54, 55-74, 75+. Các nhãn này phân bố đều nhau. Chỉ só duy nhất nhãn 5-14 thì ít hơn các nhãn còn lại\n",
    "    + `country-year`: cột này chỉ đơn giản là sự kết hợp giữa year và country\n",
    "    + `generation`: gồm 6 nhãn, phân bố không đều nhau, về ý nghĩa của các nhãn thì trong mô tả dữ liệu không đề cập nhưng ta có thể search google. Sau khi search thì ta có được thông tin của các nhãn như sau:\n",
    "        \n",
    "        \n",
    "        \n",
    "        \n",
    "        + G.I. Generation: Thế hệ vĩ đại nhất, còn được gọi là G.I. Thế hệ và Thế hệ Chiến tranh thế giới thứ hai, là nhóm nhân khẩu học theo sau Thế hệ Mất tích và trước Thế hệ Im lặng. Thế hệ này thường được định nghĩa là những người sinh từ năm 1901 đến năm 1927\n",
    "        \n",
    "        + Silent: (được sinh ra trong khoảng 1925 đến 1945) phản ứng lại cuộc Đại khủng hoảng kinh tế và Thế chiến thứ hai bằng cách chăm chỉ làm việc và giữ im lặng trước những cuộc phản kháng hay quan điểm chính trị của các thế hệ trước.\n",
    "        \n",
    "        + Boomers: (thế hệ được sinh ra trong thời kỳ bùng nổ dân số: 1944 đến 1965). Lớn lên trong một thế giới đầy những thành phố đang phát triển và gia đình đông con, họ tin rằng chỉ cần chăm chỉ làm việc thì sẽ có cuộc sống tốt hơn. Nhưng họ vất vả nhiều mà hưởng chẳng bao nhiêu, chủ yếu là lo cái ăn cái mặc và mong con cái học hành đỗ đạt để có thể đổi đời.\n",
    "        \n",
    "        + Generation X: Thế hệ X (tiếng Anh: Generation X, viết tắt: Gen X) chỉ những người sinh ra giữa những năm 1960 đến đầu những năm 1980. Khoảng 68% CEO các tập đoàn trong danh sách Fortune 500 thuộc thế hệ X.\n",
    "        \n",
    "        + Millenials: (gen Y)Những bạn trẻ ra đời cuối những năm 80 và đầu những năm 90, thế hệ chịu tác động trực tiếp của sự phát triển công nghệ. Mọi thứ đều nhanh gọn lẹ, có tiện có lợi nhưng cũng có hậu quả: thế hệ này muốn được mọi thứ ngay lập tức, thiếu kiên nhẫn và dễ dao động.\n",
    "        \n",
    "        + Generation Z: (1995 đến 2009) Những ai sinh từ những năm cuối thế kỷ 20 đến đầu thế kỷ 21: thiết bị thông minh, mạng xã hội, công nghệ cao, sống nhanh sống ảo, chịu nhiều áp lực cạnh tranh về vật chất và danh vọng. Nhiều em được gia đình bảo bọc quá mức nên thiếu kỹ năng sống và lệch lạc trong hành xử. Thế hệ này học nhiều, học miết nhưng phần lớn là học giùm kỳ vọng của mẹ, của cha."
   ]
  },
  {
   "cell_type": "code",
   "execution_count": 6,
   "id": "olive-science",
   "metadata": {},
   "outputs": [
    {
     "data": {
      "text/html": [
       "<div>\n",
       "<style scoped>\n",
       "    .dataframe tbody tr th:only-of-type {\n",
       "        vertical-align: middle;\n",
       "    }\n",
       "\n",
       "    .dataframe tbody tr th {\n",
       "        vertical-align: top;\n",
       "    }\n",
       "\n",
       "    .dataframe thead th {\n",
       "        text-align: right;\n",
       "    }\n",
       "</style>\n",
       "<table border=\"1\" class=\"dataframe\">\n",
       "  <thead>\n",
       "    <tr style=\"text-align: right;\">\n",
       "      <th></th>\n",
       "      <th>country</th>\n",
       "      <th>year</th>\n",
       "      <th>sex</th>\n",
       "      <th>age</th>\n",
       "      <th>suicides_no</th>\n",
       "      <th>population</th>\n",
       "      <th>suicides/100k pop</th>\n",
       "      <th>country-year</th>\n",
       "      <th>HDI for year</th>\n",
       "      <th>gdp_for_year ($)</th>\n",
       "      <th>gdp_per_capita ($)</th>\n",
       "      <th>generation</th>\n",
       "    </tr>\n",
       "  </thead>\n",
       "  <tbody>\n",
       "    <tr>\n",
       "      <th>0</th>\n",
       "      <td>Albania</td>\n",
       "      <td>1987</td>\n",
       "      <td>male</td>\n",
       "      <td>15-24 years</td>\n",
       "      <td>21</td>\n",
       "      <td>312900</td>\n",
       "      <td>6.71</td>\n",
       "      <td>Albania1987</td>\n",
       "      <td>NaN</td>\n",
       "      <td>2,156,624,900</td>\n",
       "      <td>796</td>\n",
       "      <td>Generation X</td>\n",
       "    </tr>\n",
       "    <tr>\n",
       "      <th>1</th>\n",
       "      <td>Albania</td>\n",
       "      <td>1987</td>\n",
       "      <td>male</td>\n",
       "      <td>35-54 years</td>\n",
       "      <td>16</td>\n",
       "      <td>308000</td>\n",
       "      <td>5.19</td>\n",
       "      <td>Albania1987</td>\n",
       "      <td>NaN</td>\n",
       "      <td>2,156,624,900</td>\n",
       "      <td>796</td>\n",
       "      <td>Silent</td>\n",
       "    </tr>\n",
       "    <tr>\n",
       "      <th>2</th>\n",
       "      <td>Albania</td>\n",
       "      <td>1987</td>\n",
       "      <td>female</td>\n",
       "      <td>15-24 years</td>\n",
       "      <td>14</td>\n",
       "      <td>289700</td>\n",
       "      <td>4.83</td>\n",
       "      <td>Albania1987</td>\n",
       "      <td>NaN</td>\n",
       "      <td>2,156,624,900</td>\n",
       "      <td>796</td>\n",
       "      <td>Generation X</td>\n",
       "    </tr>\n",
       "    <tr>\n",
       "      <th>3</th>\n",
       "      <td>Albania</td>\n",
       "      <td>1987</td>\n",
       "      <td>male</td>\n",
       "      <td>75+ years</td>\n",
       "      <td>1</td>\n",
       "      <td>21800</td>\n",
       "      <td>4.59</td>\n",
       "      <td>Albania1987</td>\n",
       "      <td>NaN</td>\n",
       "      <td>2,156,624,900</td>\n",
       "      <td>796</td>\n",
       "      <td>G.I. Generation</td>\n",
       "    </tr>\n",
       "    <tr>\n",
       "      <th>4</th>\n",
       "      <td>Albania</td>\n",
       "      <td>1987</td>\n",
       "      <td>male</td>\n",
       "      <td>25-34 years</td>\n",
       "      <td>9</td>\n",
       "      <td>274300</td>\n",
       "      <td>3.28</td>\n",
       "      <td>Albania1987</td>\n",
       "      <td>NaN</td>\n",
       "      <td>2,156,624,900</td>\n",
       "      <td>796</td>\n",
       "      <td>Boomers</td>\n",
       "    </tr>\n",
       "    <tr>\n",
       "      <th>5</th>\n",
       "      <td>Albania</td>\n",
       "      <td>1987</td>\n",
       "      <td>female</td>\n",
       "      <td>75+ years</td>\n",
       "      <td>1</td>\n",
       "      <td>35600</td>\n",
       "      <td>2.81</td>\n",
       "      <td>Albania1987</td>\n",
       "      <td>NaN</td>\n",
       "      <td>2,156,624,900</td>\n",
       "      <td>796</td>\n",
       "      <td>G.I. Generation</td>\n",
       "    </tr>\n",
       "    <tr>\n",
       "      <th>6</th>\n",
       "      <td>Albania</td>\n",
       "      <td>1987</td>\n",
       "      <td>female</td>\n",
       "      <td>35-54 years</td>\n",
       "      <td>6</td>\n",
       "      <td>278800</td>\n",
       "      <td>2.15</td>\n",
       "      <td>Albania1987</td>\n",
       "      <td>NaN</td>\n",
       "      <td>2,156,624,900</td>\n",
       "      <td>796</td>\n",
       "      <td>Silent</td>\n",
       "    </tr>\n",
       "    <tr>\n",
       "      <th>7</th>\n",
       "      <td>Albania</td>\n",
       "      <td>1987</td>\n",
       "      <td>female</td>\n",
       "      <td>25-34 years</td>\n",
       "      <td>4</td>\n",
       "      <td>257200</td>\n",
       "      <td>1.56</td>\n",
       "      <td>Albania1987</td>\n",
       "      <td>NaN</td>\n",
       "      <td>2,156,624,900</td>\n",
       "      <td>796</td>\n",
       "      <td>Boomers</td>\n",
       "    </tr>\n",
       "    <tr>\n",
       "      <th>8</th>\n",
       "      <td>Albania</td>\n",
       "      <td>1987</td>\n",
       "      <td>male</td>\n",
       "      <td>55-74 years</td>\n",
       "      <td>1</td>\n",
       "      <td>137500</td>\n",
       "      <td>0.73</td>\n",
       "      <td>Albania1987</td>\n",
       "      <td>NaN</td>\n",
       "      <td>2,156,624,900</td>\n",
       "      <td>796</td>\n",
       "      <td>G.I. Generation</td>\n",
       "    </tr>\n",
       "    <tr>\n",
       "      <th>9</th>\n",
       "      <td>Albania</td>\n",
       "      <td>1987</td>\n",
       "      <td>female</td>\n",
       "      <td>5-14 years</td>\n",
       "      <td>0</td>\n",
       "      <td>311000</td>\n",
       "      <td>0.00</td>\n",
       "      <td>Albania1987</td>\n",
       "      <td>NaN</td>\n",
       "      <td>2,156,624,900</td>\n",
       "      <td>796</td>\n",
       "      <td>Generation X</td>\n",
       "    </tr>\n",
       "    <tr>\n",
       "      <th>10</th>\n",
       "      <td>Albania</td>\n",
       "      <td>1987</td>\n",
       "      <td>female</td>\n",
       "      <td>55-74 years</td>\n",
       "      <td>0</td>\n",
       "      <td>144600</td>\n",
       "      <td>0.00</td>\n",
       "      <td>Albania1987</td>\n",
       "      <td>NaN</td>\n",
       "      <td>2,156,624,900</td>\n",
       "      <td>796</td>\n",
       "      <td>G.I. Generation</td>\n",
       "    </tr>\n",
       "    <tr>\n",
       "      <th>11</th>\n",
       "      <td>Albania</td>\n",
       "      <td>1987</td>\n",
       "      <td>male</td>\n",
       "      <td>5-14 years</td>\n",
       "      <td>0</td>\n",
       "      <td>338200</td>\n",
       "      <td>0.00</td>\n",
       "      <td>Albania1987</td>\n",
       "      <td>NaN</td>\n",
       "      <td>2,156,624,900</td>\n",
       "      <td>796</td>\n",
       "      <td>Generation X</td>\n",
       "    </tr>\n",
       "  </tbody>\n",
       "</table>\n",
       "</div>"
      ],
      "text/plain": [
       "    country  year     sex          age  suicides_no  population  \\\n",
       "0   Albania  1987    male  15-24 years           21      312900   \n",
       "1   Albania  1987    male  35-54 years           16      308000   \n",
       "2   Albania  1987  female  15-24 years           14      289700   \n",
       "3   Albania  1987    male    75+ years            1       21800   \n",
       "4   Albania  1987    male  25-34 years            9      274300   \n",
       "5   Albania  1987  female    75+ years            1       35600   \n",
       "6   Albania  1987  female  35-54 years            6      278800   \n",
       "7   Albania  1987  female  25-34 years            4      257200   \n",
       "8   Albania  1987    male  55-74 years            1      137500   \n",
       "9   Albania  1987  female   5-14 years            0      311000   \n",
       "10  Albania  1987  female  55-74 years            0      144600   \n",
       "11  Albania  1987    male   5-14 years            0      338200   \n",
       "\n",
       "    suicides/100k pop country-year  HDI for year  gdp_for_year ($)   \\\n",
       "0                6.71  Albania1987           NaN      2,156,624,900   \n",
       "1                5.19  Albania1987           NaN      2,156,624,900   \n",
       "2                4.83  Albania1987           NaN      2,156,624,900   \n",
       "3                4.59  Albania1987           NaN      2,156,624,900   \n",
       "4                3.28  Albania1987           NaN      2,156,624,900   \n",
       "5                2.81  Albania1987           NaN      2,156,624,900   \n",
       "6                2.15  Albania1987           NaN      2,156,624,900   \n",
       "7                1.56  Albania1987           NaN      2,156,624,900   \n",
       "8                0.73  Albania1987           NaN      2,156,624,900   \n",
       "9                0.00  Albania1987           NaN      2,156,624,900   \n",
       "10               0.00  Albania1987           NaN      2,156,624,900   \n",
       "11               0.00  Albania1987           NaN      2,156,624,900   \n",
       "\n",
       "    gdp_per_capita ($)       generation  \n",
       "0                  796     Generation X  \n",
       "1                  796           Silent  \n",
       "2                  796     Generation X  \n",
       "3                  796  G.I. Generation  \n",
       "4                  796          Boomers  \n",
       "5                  796  G.I. Generation  \n",
       "6                  796           Silent  \n",
       "7                  796          Boomers  \n",
       "8                  796  G.I. Generation  \n",
       "9                  796     Generation X  \n",
       "10                 796  G.I. Generation  \n",
       "11                 796     Generation X  "
      ]
     },
     "execution_count": 6,
     "metadata": {},
     "output_type": "execute_result"
    }
   ],
   "source": [
    "df.head(12)"
   ]
  },
  {
   "cell_type": "markdown",
   "id": "german-handy",
   "metadata": {},
   "source": [
    "Ở trên thì ta xem được 12 dòng đầu của dữ liệu, thì đây cũng là cách mà dữ liệu phân bố. Để hiểu hơn thì mình xin giải thích như sau:\n",
    "- Với mỗi quốc gia tường ứng với mỗi năm thì sẽ bao gồm 2 giới tính: male, female. Tương ứng với mỗi giơi tính thì sẽ là các age (5 nhãn hoặc 6 nhãn). Nên tương ứng với mỗi quốc gia và năm thì bao gồm $2*5=10$ hoặc $2*6=12$ dòng dữ liệu.\n",
    "\n",
    "Với những dữ kiện trên ta sẽ tiến hành phân tích như sau:\n",
    "- Vì số lượng xuất hiện của các nhãn năm và quốc gia không đồng đều nhau nên ta không thể phân tích sự chêch lệch, tương quan theo từng năm, theo mỗi quốc gia\n",
    "- Ở đây ta sẽ dùng cột `suicides_no` (số lượng các ca tự tử) như là một target để phân tích các thuộc tính còn lại. Ví dụ như giới tính nào, độ tuổi nào, kinh tế, thế hệ nào thì ảnh hưởng đến số lượng các ca tự tử.\n",
    "\n",
    "Trong bài này thì ta sẽ tiền hành phân tích lần theo 2 nhóm thuộc tính liên quan:\n",
    "- Nhóm 1: `sex`, `age`, `generation`\n",
    "- Nhóm 2: `population`, `suicides/100k pop`, `gdp_for_year ($)`, `gdp_per_capita`\n",
    "\n",
    "Ở đây, nhóm mình bỏ qua thuộc tính `HDI for year`, bởi vì thuộc tính dữ liệu thiếu đến 70%\n"
   ]
  },
  {
   "cell_type": "markdown",
   "id": "fifteen-speed",
   "metadata": {},
   "source": [
    "## Phân tích các cột `sex`, `age`, `generation`"
   ]
  },
  {
   "cell_type": "markdown",
   "id": "proved-applicant",
   "metadata": {},
   "source": [
    "- Đầu tiên thì ta xem lại phân phối số lượng các nhãn của các thuộc tính này như thế nào"
   ]
  },
  {
   "cell_type": "code",
   "execution_count": 7,
   "id": "characteristic-silver",
   "metadata": {},
   "outputs": [
    {
     "name": "stdout",
     "output_type": "stream",
     "text": [
      "\n",
      "\n",
      "-----sex-----\n",
      "female    13910\n",
      "male      13910\n",
      "Name: sex, dtype: int64\n",
      "\n",
      "\n",
      "-----age-----\n",
      "75+ years      4642\n",
      "35-54 years    4642\n",
      "15-24 years    4642\n",
      "55-74 years    4642\n",
      "25-34 years    4642\n",
      "5-14 years     4610\n",
      "Name: age, dtype: int64\n",
      "\n",
      "\n",
      "-----generation-----\n",
      "Generation X       6408\n",
      "Silent             6364\n",
      "Millenials         5844\n",
      "Boomers            4990\n",
      "G.I. Generation    2744\n",
      "Generation Z       1470\n",
      "Name: generation, dtype: int64\n"
     ]
    }
   ],
   "source": [
    "col_use = ['sex', 'age', 'generation']\n",
    "for col in col_use:\n",
    "    print(f'\\n\\n-----{col}-----')\n",
    "    print(df[col].value_counts())"
   ]
  },
  {
   "cell_type": "markdown",
   "id": "modern-knight",
   "metadata": {},
   "source": [
    "các nhãn của thuộc tính `sex`, `age` khá đều nhau, riêng nhãn của thuộc tính `generation` thì có sự chệch. Thì điều này cũng đúng thôi, cột này dựa vào năm sinh, để ý thằng rằng 2 nhãn \"G.I. Generation\" và \"Generation Z\" ít bởi vì 2 nhãn này là bao gồm những người được sinh ra trong khoảng (1901 đến 1927) và (1995 đến 2009), Đa phần là những người đã già hoặc là những người trẻ."
   ]
  },
  {
   "cell_type": "markdown",
   "id": "automotive-request",
   "metadata": {},
   "source": [
    "Tiếp theo ta lần lượt đặt các câu hỏi và trả lời các câu hỏi từ dữ liệu này.\n",
    "\n",
    "**Câu hỏi 1: Giữa nam và nữ, đâu là giới tính có số lượng tử tử nhiều hơn?** Với câu hỏi này ta sẽ biết được sự chêch lệch về giới tính, và kết luận được rằng giới tính nào bị áp lực nhiều hơn. "
   ]
  },
  {
   "cell_type": "code",
   "execution_count": 8,
   "id": "covered-worcester",
   "metadata": {},
   "outputs": [
    {
     "data": {
      "text/plain": [
       "sex\n",
       "female    1559510\n",
       "male      5188910\n",
       "Name: suicides_no, dtype: int64"
      ]
     },
     "execution_count": 8,
     "metadata": {},
     "output_type": "execute_result"
    }
   ],
   "source": [
    "count_suicide_by_sex = df.groupby('sex')['suicides_no'].sum()\n",
    "count_suicide_by_sex"
   ]
  },
  {
   "cell_type": "code",
   "execution_count": 9,
   "id": "greenhouse-software",
   "metadata": {},
   "outputs": [
    {
     "data": {
      "image/png": "[encoded data removed]",
      "text/plain": [
       "<Figure size 432x288 with 1 Axes>"
      ]
     },
     "metadata": {
      "needs_background": "light"
     },
     "output_type": "display_data"
    }
   ],
   "source": [
    "plt.bar(count_suicide_by_sex.index, count_suicide_by_sex.values)\n",
    "plt.title(\"Số lượng tự tử theo giới tính\")\n",
    "plt.show()"
   ]
  },
  {
   "cell_type": "code",
   "execution_count": 10,
   "id": "charged-newsletter",
   "metadata": {},
   "outputs": [
    {
     "data": {
      "text/plain": [
       "3.3272694628440984"
      ]
     },
     "execution_count": 10,
     "metadata": {},
     "output_type": "execute_result"
    }
   ],
   "source": [
    "count_suicide_by_sex['male'] / count_suicide_by_sex['female']"
   ]
  },
  {
   "cell_type": "markdown",
   "id": "theoretical-parking",
   "metadata": {},
   "source": [
    "Số lượng tự tử ở nam trong tập dữ liệu nhiều hơn gấp 3 lần số lượng phụ nữ, đang ông có vẻ \"mềm mỏng\" hơn phụ nữ. =))\n",
    "\n",
    "Bây giờ ta thử đến câu hỏi thứ 2\n",
    "\n",
    "**Câu hỏi 2: Ở độ tuổi nào nào xảy ra tự tử nhiều nhất?** với câu hỏi này thì cũng tương tự như câu hỏi 1, ta sẽ biết được một điều rằng ở độ tuổi nào con con người chịu áp lực nhiều nhất. Theo dữ liệu chương trình thì được chia ra những độ tuổi như sau:\n",
    "- 5-14: Tuổi đi học, hình thành tính cách, sống chung với bố mẹ. Đặc biệt từ 11-14 là giai đoạn tuổi trung học, đây là độ tuổi xảy ra những biến cố đặc biệt, vươn lên làm người lớn. Ở lứa tuổi này, hoạt động chủ đạo là học tập và quan hệ giao tiếp với bạn\n",
    "- 15-24: Tuổi chập chững vào đời, bắt đầu thực hiện giấc mơ (tuổi trẻ). Từ 15-18 là độ tuổi trung học phổ thông, đây là giai đoạn thể chất bằng đầu phát triển hoàn chỉnh, có sự truởng thành về giới tính, bắt đầu có xu hướng chọn một ngành nghề, cũng la giai đoạn bắt đầu nảy nở tình cảm nam nữ. Còn thời kì từ 19-24 là giai đoạn sinh viên hoặc là học nghề, thể chất phát triển hoàn thiện, vai trò trong xã hội thể hiện rõ nét\n",
    "- 25-34: Tuổi bắt đầu lập nghiệp và lập gia đình. Độ tuổi này  nghĩa vụ gia đình và nghĩa vụ xã hội nặng nề hơn.\n",
    "- 35-54: Độ tuổi hầu như là bố là mẹ, chăm lo cho gia đinh và công việc. Còn nuôi dạy các con\n",
    "- 55-74: Độ tuổi trung niên, bắt đầu có cháu, có dấu hiện chậm chạp, cơ thể suy nhược.\n",
    "- 75+: Tuổi già, đã thành các cụ, thọ đến độ tuổi này cũng là một đi"
   ]
  },
  {
   "cell_type": "code",
   "execution_count": 11,
   "id": "australian-collapse",
   "metadata": {},
   "outputs": [
    {
     "data": {
      "text/plain": [
       "age\n",
       "35-54 years    2452141\n",
       "55-74 years    1658443\n",
       "25-34 years    1123912\n",
       "15-24 years     808542\n",
       "75+ years       653118\n",
       "5-14 years       52264\n",
       "Name: suicides_no, dtype: int64"
      ]
     },
     "execution_count": 11,
     "metadata": {},
     "output_type": "execute_result"
    }
   ],
   "source": [
    "count_suicide_by_age = df.groupby('age')['suicides_no'].sum().sort_values(ascending=False)\n",
    "count_suicide_by_age"
   ]
  },
  {
   "cell_type": "code",
   "execution_count": 12,
   "id": "palestinian-kingdom",
   "metadata": {},
   "outputs": [
    {
     "data": {
      "image/png": "[encoded data removed]",
      "text/plain": [
       "<Figure size 720x576 with 1 Axes>"
      ]
     },
     "metadata": {
      "needs_background": "light"
     },
     "output_type": "display_data"
    }
   ],
   "source": [
    "plt.figure(figsize=(10, 8))\n",
    "plt.bar(count_suicide_by_age.index, count_suicide_by_age.values)\n",
    "plt.title(\"Số lượng tử tự theo độ tuổi\")\n",
    "plt.show()"
   ]
  },
  {
   "cell_type": "markdown",
   "id": "applicable-analyst",
   "metadata": {},
   "source": [
    "Có vẻ không như mong đợi, độ tuổi tự tự nhiều nhất là 35-54, nhiều nhì là 55-74. Có thể là do độ dài chênh lệch lớn (54-35 = 19 và 74-15 = 19) chăng? Hầu như ở 2 độ tuổi này thì thường là sự nghiệp ổn định hoặc đã có con và đã có con cái, vậy thì lý do sống phải cao chứ nhỉ? Phải chàng là do ly dị, thất nghiệp, trầm cảm vì công việc không mơ ước nhưng đã \"có tuổi\" đề có thể chuyển mình, hoặc là đã đi được 1/2 cuộc đời rồi mà vẫn chưa tìm được bản ngã chăng?"
   ]
  },
  {
   "cell_type": "markdown",
   "id": "deluxe-gabriel",
   "metadata": {},
   "source": [
    "Từ hai câu hỏi trên thì ta cùng đến câu hỏi thứ 3 liên quan giữa giới tinh và cả độ tuổi.\n",
    "\n",
    "**Câu hỏi 3:Ở độ tuổi nào của nam/nữ giới xảy ra tự tử nhiều?** Với câu hỏi này thì ta sẽ biệt cụ thể hơn ở từng giới tính so với câu 2"
   ]
  },
  {
   "cell_type": "markdown",
   "id": "explicit-valuation",
   "metadata": {},
   "source": [
    "- Nam giới"
   ]
  },
  {
   "cell_type": "code",
   "execution_count": 13,
   "id": "standard-battlefield",
   "metadata": {},
   "outputs": [
    {
     "data": {
      "text/plain": [
       "age\n",
       "35-54 years    1945908\n",
       "55-74 years    1228407\n",
       "25-34 years     915089\n",
       "15-24 years     633105\n",
       "75+ years       431134\n",
       "5-14 years       35267\n",
       "Name: suicides_no, dtype: int64"
      ]
     },
     "execution_count": 13,
     "metadata": {},
     "output_type": "execute_result"
    }
   ],
   "source": [
    "count_suicide_by_age_male = df[df.sex == 'male'].groupby('age')['suicides_no'].sum().sort_values(ascending=False)\n",
    "count_suicide_by_age_male"
   ]
  },
  {
   "cell_type": "code",
   "execution_count": 14,
   "id": "parental-placement",
   "metadata": {},
   "outputs": [
    {
     "data": {
      "image/png": "[encoded data removed]",
      "text/plain": [
       "<Figure size 720x576 with 1 Axes>"
      ]
     },
     "metadata": {
      "needs_background": "light"
     },
     "output_type": "display_data"
    }
   ],
   "source": [
    "plt.figure(figsize=(10, 8))\n",
    "plt.bar(count_suicide_by_age_male.index, count_suicide_by_age_male.values)\n",
    "plt.title(\"Số lượng tự tử theo độ tuổi ở Nam giới\")\n",
    "plt.show()"
   ]
  },
  {
   "cell_type": "markdown",
   "id": "sudden-allen",
   "metadata": {},
   "source": [
    "- Nữ giới"
   ]
  },
  {
   "cell_type": "code",
   "execution_count": 15,
   "id": "chemical-apache",
   "metadata": {},
   "outputs": [
    {
     "data": {
      "text/plain": [
       "age\n",
       "35-54 years    506233\n",
       "55-74 years    430036\n",
       "75+ years      221984\n",
       "25-34 years    208823\n",
       "15-24 years    175437\n",
       "5-14 years      16997\n",
       "Name: suicides_no, dtype: int64"
      ]
     },
     "execution_count": 15,
     "metadata": {},
     "output_type": "execute_result"
    }
   ],
   "source": [
    "count_suicide_by_age_female = df[df.sex == 'female'].groupby('age')['suicides_no'].sum().sort_values(ascending=False)\n",
    "count_suicide_by_age_female"
   ]
  },
  {
   "cell_type": "code",
   "execution_count": 16,
   "id": "original-encounter",
   "metadata": {},
   "outputs": [
    {
     "data": {
      "image/png": "[encoded data removed]",
      "text/plain": [
       "<Figure size 720x576 with 1 Axes>"
      ]
     },
     "metadata": {
      "needs_background": "light"
     },
     "output_type": "display_data"
    }
   ],
   "source": [
    "plt.figure(figsize=(10, 8))\n",
    "plt.bar(count_suicide_by_age_female.index, count_suicide_by_age_female.values)\n",
    "plt.title(\"Số lượng tự tử theo độ tuổi ở Nữ giới\")\n",
    "plt.show()"
   ]
  },
  {
   "cell_type": "markdown",
   "id": "recent-tongue",
   "metadata": {},
   "source": [
    "Điểm chung ở nam và nữ đều tự tử nhiều nhất ở độ tuổi 35-54 và nhiều nhì là 55-74. Sự khác biệt duy nhất là ở vi trí thứ 3 của nữ giới lại là 75+, còn ở nam giới là 25-34 và 75+ ở nam giới xếp ở vị trí thứ 5. Theo thống kê của thế giới thì phụ nữ sống lâu hơn đàn ông, phải chăng phụ nữ họ tử tử ở độ tuổi trên 75+ nhiều là do mất đi người yêu, chồng chết trước mình chăng?"
   ]
  },
  {
   "cell_type": "markdown",
   "id": "municipal-trade",
   "metadata": {},
   "source": [
    "- Tiếp theo ta sẽ tìm hiểu về tự tử ở các thế hệ. Với sự tìm hiểu về độ tuổi ở trên, có lẽ 3 thế hệ ta quan tâm đó là:\n",
    "    + Silent: (được sinh ra trong khoảng 1925 đến 1945) phản ứng lại cuộc Đại khủng hoảng kinh tế và Thế chiến thứ hai bằng cách chăm chỉ làm việc và giữ im lặng trước những cuộc phản kháng hay quan điểm chính trị của các thế hệ trước.\n",
    "\n",
    "    + Boomers: (thế hệ được sinh ra trong thời kỳ bùng nổ dân số: 1944 đến 1965). Lớn lên trong một thế giới đầy những thành phố đang phát triển và gia đình đông con, họ tin rằng chỉ cần chăm chỉ làm việc thì sẽ có cuộc sống tốt hơn. Nhưng họ vất vả nhiều mà hưởng chẳng bao nhiêu, chủ yếu là lo cái ăn cái mặc và mong con cái học hành đỗ đạt để có thể đổi đời.\n",
    "\n",
    "    + Generation X: Thế hệ X (tiếng Anh: Generation X, viết tắt: Gen X) chỉ những người sinh ra giữa những năm 1960 đến đầu những năm 1980. Khoảng 68% CEO các tập đoàn trong danh sách Fortune 500 thuộc thế hệ X.\n",
    "    \n",
    "Với thế hệ genZ, và G.I thì quá trẻ hoặc quá già và 2 thế hệ này trong dữ liệu lại ít hơn nhiều so với các thế hệ còn lại\n",
    "\n",
    "**Câu hỏi 3: Thế hệ nào tự tử nhiều?**"
   ]
  },
  {
   "cell_type": "code",
   "execution_count": 17,
   "id": "enormous-thomson",
   "metadata": {},
   "outputs": [
    {
     "data": {
      "text/plain": [
       "generation\n",
       "Boomers            2284498\n",
       "Silent             1781744\n",
       "Generation X       1532804\n",
       "Millenials          623459\n",
       "G.I. Generation     510009\n",
       "Generation Z         15906\n",
       "Name: suicides_no, dtype: int64"
      ]
     },
     "execution_count": 17,
     "metadata": {},
     "output_type": "execute_result"
    }
   ],
   "source": [
    "count_suicide_by_generation = df.groupby('generation')['suicides_no'].sum().sort_values(ascending=False)\n",
    "count_suicide_by_generation"
   ]
  },
  {
   "cell_type": "code",
   "execution_count": 18,
   "id": "valid-assessment",
   "metadata": {},
   "outputs": [
    {
     "data": {
      "image/png": "[encoded data removed]",
      "text/plain": [
       "<Figure size 720x576 with 1 Axes>"
      ]
     },
     "metadata": {
      "needs_background": "light"
     },
     "output_type": "display_data"
    }
   ],
   "source": [
    "plt.figure(figsize=(10, 8))\n",
    "plt.bar(count_suicide_by_generation.index, count_suicide_by_generation.values)\n",
    "plt.title(\"Số lượng tự tử theo thế hệ\")\n",
    "plt.show()"
   ]
  },
  {
   "cell_type": "markdown",
   "id": "spiritual-description",
   "metadata": {},
   "source": [
    "Boomers có vẻ là thế hệ khổ cực nhất. Đây là thế hệ được sinh ra và lớn lên trong thời kì thế giới bắt đầu phát triển (sinh ra từ 1944 đến 1965), gia đình đông con, là kiểu thế hệ làm nhiều nuôi con nhưng không hưởng thụ nhiều, hiện tại thì thế hệ này khoảng hơn 60 tuổi), đây cũng là độ tuổi có tỉ lệ tự tử cao, sự phân tích này có thể có ảnh hưởng tốt đến mọi người thuộc thế hệ này\n",
    "\n",
    "Silent hiện giờ là những người đã già rồi, đây là thế hệ sinh ra và lớn lên trong chiến tranh và khủng hoảng kinh tế. "
   ]
  },
  {
   "cell_type": "markdown",
   "id": "distinct-brief",
   "metadata": {},
   "source": [
    "- Tổng kết lại:\n",
    "    + Nam giới có tỉ lệ cao hơn gấp 3 lần nữ giới\n",
    "    + Độ tuổi tự tử nhiều nhất ở cả hai giới là từ 35-54, nhiều nhì là 55-74. Riêng với nam giới từ 25-34 ở vị trí thứ 3, còn phụ nữ thì lại trên 75 tuổi\n",
    "    + Kéo theo đó là thế hệ Boomers (sinh ra từ 1944 và 1965) là thế hệ có tỉ lệ tự tử cao nhất\n",
    "    \n",
    "Nếu bạn đang trong thời kì stress, bế tắc hãy xem các số liệu trên để có được sự đồng cảm"
   ]
  },
  {
   "cell_type": "code",
   "execution_count": null,
   "id": "communist-joining",
   "metadata": {},
   "outputs": [],
   "source": []
  }
 ],
 "metadata": {
  "kernelspec": {
   "display_name": "Python 3.8.5 64-bit ('base': conda)",
   "language": "python",
   "name": "python385jvsc74a57bd0333e78c5871c7f69ba6deb3e166eb81d4b61c8287874a9a915f7d71f87f5ecf0"
  },
  "language_info": {
   "codemirror_mode": {
    "name": "ipython",
    "version": 3
   },
   "file_extension": ".py",
   "mimetype": "text/x-python",
   "name": "python",
   "nbconvert_exporter": "python",
   "pygments_lexer": "ipython3",
   "version": "3.8.5"
  }
 },
 "nbformat": 4,
 "nbformat_minor": 5
}
