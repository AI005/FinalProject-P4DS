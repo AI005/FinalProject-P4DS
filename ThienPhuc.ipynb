{
 "cells": [
  {
   "cell_type": "markdown",
   "id": "heard-winner",
   "metadata": {},
   "source": [
    "# INFO\n",
    "\n",
    "- ĐỒ ÁN CUỐI KÌ MÔN `LẬP TRÌNH CHO KHOA HỌC DỮ LIỆU`\n",
    "- Thành viên:\n",
    "    + 18120517 Nguyễn Công Bình Phương\n",
    "    + 18120514 Phan Thiên Phúc"
   ]
  },
  {
   "cell_type": "markdown",
   "id": "recognized-motor",
   "metadata": {},
   "source": [
    "# OUR ANALYSIS"
   ]
  },
  {
   "cell_type": "code",
   "execution_count": 1,
   "id": "8958234f",
   "metadata": {
    "scrolled": true
   },
   "outputs": [
    {
     "name": "stdout",
     "output_type": "stream",
     "text": [
      "Collecting package metadata (current_repodata.json): done\n",
      "Solving environment: done\n",
      "\n",
      "## Package Plan ##\n",
      "\n",
      "  environment location: /Users/nathan/opt/anaconda3\n",
      "\n",
      "  added / updated specs:\n",
      "    - seaborn\n",
      "\n",
      "\n",
      "The following packages will be downloaded:\n",
      "\n",
      "    package                    |            build\n",
      "    ---------------------------|-----------------\n",
      "    conda-4.10.3               |   py38h50d1736_0         3.1 MB  conda-forge\n",
      "    ------------------------------------------------------------\n",
      "                                           Total:         3.1 MB\n",
      "\n",
      "The following NEW packages will be INSTALLED:\n",
      "\n",
      "  python_abi         conda-forge/osx-64::python_abi-3.8-2_cp38\n",
      "\n",
      "The following packages will be SUPERSEDED by a higher-priority channel:\n",
      "\n",
      "  conda              pkgs/main::conda-4.10.3-py38hecd8cb5_0 --> conda-forge::conda-4.10.3-py38h50d1736_0\n",
      "\n",
      "\n",
      "\n",
      "Downloading and Extracting Packages\n",
      "conda-4.10.3         | 3.1 MB    | ##################################### | 100% \n",
      "Preparing transaction: done\n",
      "Verifying transaction: done\n",
      "Executing transaction: done\n"
     ]
    }
   ],
   "source": [
    "#import additional packages to env\n",
    "!conda install -c conda-forge seaborn -y"
   ]
  },
  {
   "cell_type": "code",
   "execution_count": 2,
   "id": "friendly-configuration",
   "metadata": {},
   "outputs": [],
   "source": [
    "#import library\n",
    "import pandas as pd\n",
    "import matplotlib.pyplot as plt\n",
    "import numpy as np\n",
    "import seaborn as sns"
   ]
  },
  {
   "cell_type": "markdown",
   "id": "conditional-prison",
   "metadata": {},
   "source": [
    "## ABOUT DATA"
   ]
  },
  {
   "cell_type": "markdown",
   "id": "waiting-danish",
   "metadata": {},
   "source": [
    "nguồn: https://www.kaggle.com/russellyates88/suicide-rates-overview-1985-to-2016\n",
    "\n",
    "- Content: This compiled dataset pulled from four other datasets linked by time and place, and was built to find signals correlated to increased suicide rates among different cohorts globally, across the socio-economic spectrum.\n",
    "\n",
    "- References: \n",
    "    United Nations Development Program. (2018). Human development index (HDI). Retrieved from http://hdr.undp.org/en/indicators/137506\n",
    "\n",
    "    World Bank. (2018). World development indicators: GDP (current US$) by country:1985 to 2016. Retrieved from http://databank.worldbank.org/data/source/world-development-indicators#\n",
    "\n",
    "    [Szamil]. (2017). Suicide in the Twenty-First Century [dataset]. Retrieved from https://www.kaggle.com/szamil/suicide-in-the-twenty-first-century/notebook\n",
    "\n",
    "    World Health Organization. (2018). Suicide prevention. Retrieved from http://www.who.int/mental_health/suicide-prevention/en/\n",
    "\n",
    "- Inspiration: Suicide Prevention.\n"
   ]
  },
  {
   "cell_type": "markdown",
   "id": "cbf040e3",
   "metadata": {},
   "source": [
    "***Data dictionary***:\n",
    "- Country: Column representing countries (string)\n",
    "- Year: Column representing years (integer)\n",
    "- Sex: Column representing genres (string)\n",
    "- Age: Column representing ages (string)\n",
    "- Suicides_no: Column representing the number of suicides (integer)\n",
    "- Population: Column representing the population (integer)\n",
    "- Suicides / 100k pop: Column that represents the number of suicides per 100 thousand inhabitants (float)\n",
    "- Country-year: Column that represents (string)\n",
    "- HDI for year: Column that represents the HDI in each year (float)\n",
    "- Gdp_for_year($): Column representing GDP in each year (string)\n",
    "- Gdp_per_capita($): Column representing GDP per capita (float)\n",
    "- Generation: Column that represents the generation (string)"
   ]
  },
  {
   "cell_type": "markdown",
   "id": "b6815ac6",
   "metadata": {},
   "source": [
    "## DATA ANALYSIS"
   ]
  },
  {
   "cell_type": "markdown",
   "id": "8e3249b9",
   "metadata": {},
   "source": [
    "### Đọc file dữ liệu"
   ]
  },
  {
   "cell_type": "code",
   "execution_count": 3,
   "id": "great-chance",
   "metadata": {},
   "outputs": [
    {
     "data": {
      "text/html": [
       "<div>\n",
       "<style scoped>\n",
       "    .dataframe tbody tr th:only-of-type {\n",
       "        vertical-align: middle;\n",
       "    }\n",
       "\n",
       "    .dataframe tbody tr th {\n",
       "        vertical-align: top;\n",
       "    }\n",
       "\n",
       "    .dataframe thead th {\n",
       "        text-align: right;\n",
       "    }\n",
       "</style>\n",
       "<table border=\"1\" class=\"dataframe\">\n",
       "  <thead>\n",
       "    <tr style=\"text-align: right;\">\n",
       "      <th></th>\n",
       "      <th>country</th>\n",
       "      <th>year</th>\n",
       "      <th>sex</th>\n",
       "      <th>age</th>\n",
       "      <th>suicides_no</th>\n",
       "      <th>population</th>\n",
       "      <th>suicides/100k pop</th>\n",
       "      <th>country-year</th>\n",
       "      <th>HDI for year</th>\n",
       "      <th>gdp_for_year ($)</th>\n",
       "      <th>gdp_per_capita ($)</th>\n",
       "      <th>generation</th>\n",
       "    </tr>\n",
       "  </thead>\n",
       "  <tbody>\n",
       "    <tr>\n",
       "      <th>0</th>\n",
       "      <td>Albania</td>\n",
       "      <td>1987</td>\n",
       "      <td>male</td>\n",
       "      <td>15-24 years</td>\n",
       "      <td>21</td>\n",
       "      <td>312900</td>\n",
       "      <td>6.71</td>\n",
       "      <td>Albania1987</td>\n",
       "      <td>NaN</td>\n",
       "      <td>2,156,624,900</td>\n",
       "      <td>796</td>\n",
       "      <td>Generation X</td>\n",
       "    </tr>\n",
       "    <tr>\n",
       "      <th>1</th>\n",
       "      <td>Albania</td>\n",
       "      <td>1987</td>\n",
       "      <td>male</td>\n",
       "      <td>35-54 years</td>\n",
       "      <td>16</td>\n",
       "      <td>308000</td>\n",
       "      <td>5.19</td>\n",
       "      <td>Albania1987</td>\n",
       "      <td>NaN</td>\n",
       "      <td>2,156,624,900</td>\n",
       "      <td>796</td>\n",
       "      <td>Silent</td>\n",
       "    </tr>\n",
       "    <tr>\n",
       "      <th>2</th>\n",
       "      <td>Albania</td>\n",
       "      <td>1987</td>\n",
       "      <td>female</td>\n",
       "      <td>15-24 years</td>\n",
       "      <td>14</td>\n",
       "      <td>289700</td>\n",
       "      <td>4.83</td>\n",
       "      <td>Albania1987</td>\n",
       "      <td>NaN</td>\n",
       "      <td>2,156,624,900</td>\n",
       "      <td>796</td>\n",
       "      <td>Generation X</td>\n",
       "    </tr>\n",
       "    <tr>\n",
       "      <th>3</th>\n",
       "      <td>Albania</td>\n",
       "      <td>1987</td>\n",
       "      <td>male</td>\n",
       "      <td>75+ years</td>\n",
       "      <td>1</td>\n",
       "      <td>21800</td>\n",
       "      <td>4.59</td>\n",
       "      <td>Albania1987</td>\n",
       "      <td>NaN</td>\n",
       "      <td>2,156,624,900</td>\n",
       "      <td>796</td>\n",
       "      <td>G.I. Generation</td>\n",
       "    </tr>\n",
       "    <tr>\n",
       "      <th>4</th>\n",
       "      <td>Albania</td>\n",
       "      <td>1987</td>\n",
       "      <td>male</td>\n",
       "      <td>25-34 years</td>\n",
       "      <td>9</td>\n",
       "      <td>274300</td>\n",
       "      <td>3.28</td>\n",
       "      <td>Albania1987</td>\n",
       "      <td>NaN</td>\n",
       "      <td>2,156,624,900</td>\n",
       "      <td>796</td>\n",
       "      <td>Boomers</td>\n",
       "    </tr>\n",
       "  </tbody>\n",
       "</table>\n",
       "</div>"
      ],
      "text/plain": [
       "   country  year     sex          age  suicides_no  population  \\\n",
       "0  Albania  1987    male  15-24 years           21      312900   \n",
       "1  Albania  1987    male  35-54 years           16      308000   \n",
       "2  Albania  1987  female  15-24 years           14      289700   \n",
       "3  Albania  1987    male    75+ years            1       21800   \n",
       "4  Albania  1987    male  25-34 years            9      274300   \n",
       "\n",
       "   suicides/100k pop country-year  HDI for year  gdp_for_year ($)   \\\n",
       "0               6.71  Albania1987           NaN      2,156,624,900   \n",
       "1               5.19  Albania1987           NaN      2,156,624,900   \n",
       "2               4.83  Albania1987           NaN      2,156,624,900   \n",
       "3               4.59  Albania1987           NaN      2,156,624,900   \n",
       "4               3.28  Albania1987           NaN      2,156,624,900   \n",
       "\n",
       "   gdp_per_capita ($)       generation  \n",
       "0                 796     Generation X  \n",
       "1                 796           Silent  \n",
       "2                 796     Generation X  \n",
       "3                 796  G.I. Generation  \n",
       "4                 796          Boomers  "
      ]
     },
     "execution_count": 3,
     "metadata": {},
     "output_type": "execute_result"
    }
   ],
   "source": [
    "df = pd.read_csv('master.csv')\n",
    "df.head()"
   ]
  },
  {
   "cell_type": "markdown",
   "id": "choice-insert",
   "metadata": {},
   "source": [
    "### Dữ liệu gồm có bao nhiêu dòng và bao nhiêu cột?"
   ]
  },
  {
   "cell_type": "code",
   "execution_count": 4,
   "id": "2b80d6d2",
   "metadata": {},
   "outputs": [
    {
     "data": {
      "text/plain": [
       "(27820, 12)"
      ]
     },
     "execution_count": 4,
     "metadata": {},
     "output_type": "execute_result"
    }
   ],
   "source": [
    "df.shape"
   ]
  },
  {
   "cell_type": "markdown",
   "id": "7e80f8f6",
   "metadata": {},
   "source": [
    "### Kiểu dữ liệu của từng cột"
   ]
  },
  {
   "cell_type": "code",
   "execution_count": 5,
   "id": "2b98d4f9",
   "metadata": {},
   "outputs": [
    {
     "name": "stdout",
     "output_type": "stream",
     "text": [
      "<class 'pandas.core.frame.DataFrame'>\n",
      "RangeIndex: 27820 entries, 0 to 27819\n",
      "Data columns (total 12 columns):\n",
      " #   Column              Non-Null Count  Dtype  \n",
      "---  ------              --------------  -----  \n",
      " 0   country             27820 non-null  object \n",
      " 1   year                27820 non-null  int64  \n",
      " 2   sex                 27820 non-null  object \n",
      " 3   age                 27820 non-null  object \n",
      " 4   suicides_no         27820 non-null  int64  \n",
      " 5   population          27820 non-null  int64  \n",
      " 6   suicides/100k pop   27820 non-null  float64\n",
      " 7   country-year        27820 non-null  object \n",
      " 8   HDI for year        8364 non-null   float64\n",
      " 9    gdp_for_year ($)   27820 non-null  object \n",
      " 10  gdp_per_capita ($)  27820 non-null  int64  \n",
      " 11  generation          27820 non-null  object \n",
      "dtypes: float64(2), int64(4), object(6)\n",
      "memory usage: 2.5+ MB\n"
     ]
    }
   ],
   "source": [
    "df.info()"
   ]
  },
  {
   "cell_type": "markdown",
   "id": "944ccf68",
   "metadata": {},
   "source": [
    "**Nhận xét:** Các cột có kiểu dữ liệu phù hợp với dữ liệu cung cấp. Tuy nhiên, ta thấy có cột `country-year` khá thừa khi đã có cột `country` và `year` độc lập. Ta sẽ loại bỏ cột `country-year` ở trong bước tiền xử lý dữ liệu."
   ]
  },
  {
   "cell_type": "markdown",
   "id": "4184c1a4",
   "metadata": {},
   "source": [
    "### Dữ liệu có các dòng bị lặp hay rỗng không?"
   ]
  },
  {
   "cell_type": "code",
   "execution_count": 6,
   "id": "94c8c8ae",
   "metadata": {},
   "outputs": [
    {
     "data": {
      "text/plain": [
       "False"
      ]
     },
     "execution_count": 6,
     "metadata": {},
     "output_type": "execute_result"
    }
   ],
   "source": [
    "df.duplicated().any()"
   ]
  },
  {
   "cell_type": "markdown",
   "id": "7d423c76",
   "metadata": {},
   "source": [
    "=> Không có dữ liệu lặp"
   ]
  },
  {
   "cell_type": "code",
   "execution_count": 7,
   "id": "01faa069",
   "metadata": {},
   "outputs": [
    {
     "data": {
      "text/plain": [
       "True"
      ]
     },
     "execution_count": 7,
     "metadata": {},
     "output_type": "execute_result"
    }
   ],
   "source": [
    "df.isnull().values.any()"
   ]
  },
  {
   "cell_type": "markdown",
   "id": "a117233c",
   "metadata": {},
   "source": [
    "=> Trong tập dữ liệu có các điểm dữ liệu thiếu => Ta sẽ cùng tìm hiểu kĩ hơn"
   ]
  },
  {
   "cell_type": "code",
   "execution_count": 15,
   "id": "28fa632b",
   "metadata": {},
   "outputs": [
    {
     "data": {
      "text/html": [
       "<div>\n",
       "<style scoped>\n",
       "    .dataframe tbody tr th:only-of-type {\n",
       "        vertical-align: middle;\n",
       "    }\n",
       "\n",
       "    .dataframe tbody tr th {\n",
       "        vertical-align: top;\n",
       "    }\n",
       "\n",
       "    .dataframe thead th {\n",
       "        text-align: right;\n",
       "    }\n",
       "</style>\n",
       "<table border=\"1\" class=\"dataframe\">\n",
       "  <thead>\n",
       "    <tr style=\"text-align: right;\">\n",
       "      <th></th>\n",
       "      <th>country</th>\n",
       "      <th>year</th>\n",
       "      <th>sex</th>\n",
       "      <th>age</th>\n",
       "      <th>suicides_no</th>\n",
       "      <th>population</th>\n",
       "      <th>suicides/100k pop</th>\n",
       "      <th>country-year</th>\n",
       "      <th>HDI for year</th>\n",
       "      <th>gdp_for_year ($)</th>\n",
       "      <th>gdp_per_capita ($)</th>\n",
       "      <th>generation</th>\n",
       "    </tr>\n",
       "  </thead>\n",
       "  <tbody>\n",
       "    <tr>\n",
       "      <th>count_missing_values</th>\n",
       "      <td>0.0</td>\n",
       "      <td>0.0</td>\n",
       "      <td>0.0</td>\n",
       "      <td>0.0</td>\n",
       "      <td>0.0</td>\n",
       "      <td>0.0</td>\n",
       "      <td>0.0</td>\n",
       "      <td>0.0</td>\n",
       "      <td>19456.000000</td>\n",
       "      <td>0.0</td>\n",
       "      <td>0.0</td>\n",
       "      <td>0.0</td>\n",
       "    </tr>\n",
       "    <tr>\n",
       "      <th>calculate_missing_percentage</th>\n",
       "      <td>0.0</td>\n",
       "      <td>0.0</td>\n",
       "      <td>0.0</td>\n",
       "      <td>0.0</td>\n",
       "      <td>0.0</td>\n",
       "      <td>0.0</td>\n",
       "      <td>0.0</td>\n",
       "      <td>0.0</td>\n",
       "      <td>69.935298</td>\n",
       "      <td>0.0</td>\n",
       "      <td>0.0</td>\n",
       "      <td>0.0</td>\n",
       "    </tr>\n",
       "  </tbody>\n",
       "</table>\n",
       "</div>"
      ],
      "text/plain": [
       "                              country  year  sex  age  suicides_no  \\\n",
       "count_missing_values              0.0   0.0  0.0  0.0          0.0   \n",
       "calculate_missing_percentage      0.0   0.0  0.0  0.0          0.0   \n",
       "\n",
       "                              population  suicides/100k pop  country-year  \\\n",
       "count_missing_values                 0.0                0.0           0.0   \n",
       "calculate_missing_percentage         0.0                0.0           0.0   \n",
       "\n",
       "                              HDI for year   gdp_for_year ($)   \\\n",
       "count_missing_values          19456.000000                 0.0   \n",
       "calculate_missing_percentage     69.935298                 0.0   \n",
       "\n",
       "                              gdp_per_capita ($)  generation  \n",
       "count_missing_values                         0.0         0.0  \n",
       "calculate_missing_percentage                 0.0         0.0  "
      ]
     },
     "execution_count": 15,
     "metadata": {},
     "output_type": "execute_result"
    }
   ],
   "source": [
    "def count_missing_values(s):\n",
    "    return s.isna().sum()\n",
    "\n",
    "def calculate_missing_percentage(s):\n",
    "    return s.isna().sum() / df.shape[0] * 100\n",
    "\n",
    "df.agg([count_missing_values, calculate_missing_percentage])"
   ]
  },
  {
   "cell_type": "markdown",
   "id": "25f5f16a",
   "metadata": {},
   "source": [
    "**Nhận xét:** Ta thấy rằng trong tập dữ liệu chỉ có duy nhất cột `HDI for year` có giá trị thiếu và  bị thiếu dữ liệu rất nhiều (~ 70%).\n",
    "`HDI for year` ở đây là chỉ số `Human Development Index` của đất nước tại thời điểm được xét `year`. Tìm thiểu thêm về HDI [tại đây](https://vi.wikipedia.org/wiki/Ch%E1%BB%89_s%E1%BB%91_ph%C3%A1t_tri%E1%BB%83n_con_ng%C6%B0%E1%BB%9Di)\n",
    "\n",
    "Vậy nên ta sẽ loại bỏ cột này ở bước tiền xử lý dữ liệu"
   ]
  },
  {
   "cell_type": "markdown",
   "id": "talented-advantage",
   "metadata": {},
   "source": [
    "## INSIGHT"
   ]
  },
  {
   "cell_type": "markdown",
   "id": "dea7b76b",
   "metadata": {},
   "source": [
    "Trước khi bước đến bước tiền xử lý dữ liệu, dựa vào những khám phá và phân tích dữ liệu cơ bản ở các bước trên. Ta sẽ chọn insight sau\n",
    "\n",
    "***Sự ảnh hưởng của việc tự tử ở người dân đối với nền kinh tế các nước***\n"
   ]
  },
  {
   "cell_type": "markdown",
   "id": "prescription-honey",
   "metadata": {},
   "source": [
    "Dự đoán của bản thân trước khi phân tích:\n",
    "```\n",
    "Có thể việc tự tử ở người dân sẽ chịu ảnh hưởng và gây ảnh hưởng đến nền kinh tế của một nước.\n",
    "```"
   ]
  },
  {
   "cell_type": "code",
   "execution_count": null,
   "id": "f989c0a8",
   "metadata": {},
   "outputs": [],
   "source": []
  }
 ],
 "metadata": {
  "kernelspec": {
   "display_name": "Python 3",
   "language": "python",
   "name": "python3"
  },
  "language_info": {
   "codemirror_mode": {
    "name": "ipython",
    "version": 3
   },
   "file_extension": ".py",
   "mimetype": "text/x-python",
   "name": "python",
   "nbconvert_exporter": "python",
   "pygments_lexer": "ipython3",
   "version": "3.8.8"
  }
 },
 "nbformat": 4,
 "nbformat_minor": 5
}
